{
 "cells": [
  {
   "cell_type": "code",
   "execution_count": 12,
   "id": "34e57ab7-a0dc-41b2-9a33-d5f52176b644",
   "metadata": {
    "tags": []
   },
   "outputs": [],
   "source": [
    "import sagemaker\n",
    "import boto3\n",
    "from sagemaker.estimator import Estimator\n",
    "from sagemaker import image_uris\n",
    "import json\n",
    "session = sagemaker.Session()\n",
    "\n",
    "role = sagemaker.get_execution_role()"
   ]
  },
  {
   "cell_type": "code",
   "execution_count": 10,
   "id": "a41f6eda-1201-4bfd-b3ab-a1c495b4acd0",
   "metadata": {
    "tags": []
   },
   "outputs": [
    {
     "data": {
      "text/plain": [
       "'ap-southeast-1'"
      ]
     },
     "execution_count": 10,
     "metadata": {},
     "output_type": "execute_result"
    }
   ],
   "source": [
    "session.boto_region_name"
   ]
  },
  {
   "cell_type": "code",
   "execution_count": 7,
   "id": "0f2dd9bf-57a9-4efd-a8fa-d51b3a6de690",
   "metadata": {
    "tags": []
   },
   "outputs": [
    {
     "data": {
      "text/plain": [
       "'arn:aws:iam::244995231168:role/sagemaker_role'"
      ]
     },
     "execution_count": 7,
     "metadata": {},
     "output_type": "execute_result"
    }
   ],
   "source": [
    "role"
   ]
  },
  {
   "cell_type": "code",
   "execution_count": 11,
   "id": "b5124daf-c429-4586-9b7a-6d8080aef6b7",
   "metadata": {
    "tags": []
   },
   "outputs": [
    {
     "name": "stderr",
     "output_type": "stream",
     "text": [
      "Defaulting to the only supported framework/algorithm version: 1. Ignoring framework/algorithm version: latest.\n"
     ]
    }
   ],
   "source": [
    "container = image_uris.retrieve('blazingtext', session.boto_region_name, version='latest')"
   ]
  },
  {
   "cell_type": "code",
   "execution_count": 26,
   "id": "f0ba2090-a838-44f0-9b37-2b11ae0640c0",
   "metadata": {
    "tags": []
   },
   "outputs": [],
   "source": [
    "blazingText = Estimator(\n",
    "    image_uri = container,\n",
    "    role=role,\n",
    "    instance_count = 1,\n",
    "    instance_type = 'ml.m5.large',\n",
    "    output_path = \"s3://ud-sg-essentials/l2e1/\"\n",
    ")"
   ]
  },
  {
   "cell_type": "code",
   "execution_count": 27,
   "id": "97505499-452c-4607-aba9-bf20a7045866",
   "metadata": {
    "tags": []
   },
   "outputs": [],
   "source": [
    "train_location = \"s3://ud-sg-essentials/l2e1/hello_blaze_train\"\n",
    "val_location = \"s3://ud-sg-essentials/l2e1/hello_blaze_validation\""
   ]
  },
  {
   "cell_type": "code",
   "execution_count": 28,
   "id": "faf81eed-b0d5-4bdf-b8c1-3e5e5dceecdb",
   "metadata": {
    "tags": []
   },
   "outputs": [],
   "source": [
    "s3_input_train = sagemaker.inputs.TrainingInput(s3_data = train_location, content_type=\"fastFile\")\n",
    "s3_input_val = sagemaker.inputs.TrainingInput(s3_data = val_location, content_type=\"fastFile\")"
   ]
  },
  {
   "cell_type": "code",
   "execution_count": 29,
   "id": "93373d97-dba5-4e1a-8d9f-fd6ea97b3424",
   "metadata": {
    "tags": []
   },
   "outputs": [],
   "source": [
    "blazingText.set_hyperparameters(mode=\"skipgram\",\n",
    "    epochs=5,\n",
    "    min_count=5,\n",
    "    sampling_threshold=0.0001,\n",
    "    learning_rate=0.05,\n",
    "    window_size=5,\n",
    "    early_stopping=True,\n",
    "    vector_dim=100,\n",
    "    negative_samples=5,\n",
    "    batch_size=11,  #  = (2*window_size + 1) (Preferred. Used only if mode is batch_skipgram)\n",
    "    evaluation=True,  # Perform similarity evaluation on WS-353 dataset at the end of training\n",
    "    subwords=False,)"
   ]
  },
  {
   "cell_type": "code",
   "execution_count": 30,
   "id": "2bf695f9-70bb-4624-8e5c-8a5d6c010fc4",
   "metadata": {
    "tags": []
   },
   "outputs": [
    {
     "name": "stderr",
     "output_type": "stream",
     "text": [
      "INFO:sagemaker:Creating training-job with name: blazingtext-2024-03-15-09-24-27-678\n"
     ]
    },
    {
     "name": "stdout",
     "output_type": "stream",
     "text": [
      "2024-03-15 09:24:27 Starting - Starting the training job...\n",
      "2024-03-15 09:24:41 Starting - Preparing the instances for training......\n",
      "2024-03-15 09:25:35 Downloading - Downloading input data...\n",
      "2024-03-15 09:26:25 Downloading - Downloading the training image...\n",
      "2024-03-15 09:26:40 Training - Training image download completed. Training in progress....\u001b[34mArguments: train\u001b[0m\n",
      "\u001b[34m[03/15/2024 09:26:44 WARNING 139791572899648] Loggers have already been setup.\u001b[0m\n",
      "\u001b[34m[03/15/2024 09:26:44 WARNING 139791572899648] Loggers have already been setup.\u001b[0m\n",
      "\u001b[34m/opt/amazon/python3.8/lib/python3.8/subprocess.py:848: RuntimeWarning: line buffering (buffering=1) isn't supported in binary mode, the default buffer size will be used\n",
      "  self.stdout = io.open(c2pread, 'rb', bufsize)\u001b[0m\n",
      "\u001b[34m[03/15/2024 09:26:44 INFO 139791572899648] nvidia-smi took: 0.025183677673339844 secs to identify 0 gpus\u001b[0m\n",
      "\u001b[34m[03/15/2024 09:26:44 INFO 139791572899648] Running single machine CPU BlazingText training using skipgram mode.\u001b[0m\n",
      "\u001b[34mNumber of CPU sockets found in instance is  1\u001b[0m\n",
      "\u001b[34m[03/15/2024 09:26:44 INFO 139791572899648] Processing /opt/ml/input/data/train/hello_blaze_train . File size: 40.886911392211914 MB\u001b[0m\n",
      "\u001b[34mRead 8M words\u001b[0m\n",
      "\u001b[34mNumber of words:  33240\u001b[0m\n",
      "\u001b[34m##### Alpha: 0.0489  Progress: 2.14%  Million Words/sec: 0.39 #####\u001b[0m\n",
      "\u001b[34m##### Alpha: 0.0464  Progress: 7.22%  Million Words/sec: 0.56 #####\u001b[0m\n",
      "\u001b[34m##### Alpha: 0.0439  Progress: 12.25%  Million Words/sec: 0.59 #####\u001b[0m\n",
      "\u001b[34m##### Alpha: 0.0414  Progress: 17.26%  Million Words/sec: 0.61 #####\u001b[0m\n",
      "\u001b[34m##### Alpha: 0.0388  Progress: 22.43%  Million Words/sec: 0.63 #####\u001b[0m\n",
      "\u001b[34m##### Alpha: 0.0363  Progress: 27.43%  Million Words/sec: 0.59 #####\u001b[0m\n",
      "\u001b[34m##### Alpha: 0.0338  Progress: 32.43%  Million Words/sec: 0.60 #####\u001b[0m\n",
      "\u001b[34m##### Alpha: 0.0313  Progress: 37.50%  Million Words/sec: 0.60 #####\u001b[0m\n",
      "\u001b[34m##### Alpha: 0.0287  Progress: 42.64%  Million Words/sec: 0.61 #####\u001b[0m\n",
      "\u001b[34m##### Alpha: 0.0261  Progress: 47.81%  Million Words/sec: 0.61 #####\u001b[0m\n",
      "\u001b[34m##### Alpha: 0.0235  Progress: 52.97%  Million Words/sec: 0.62 #####\u001b[0m\n",
      "\u001b[34m##### Alpha: 0.0210  Progress: 58.07%  Million Words/sec: 0.62 #####\u001b[0m\n",
      "\u001b[34m##### Alpha: 0.0184  Progress: 63.13%  Million Words/sec: 0.62 #####\u001b[0m\n",
      "\u001b[34m##### Alpha: 0.0159  Progress: 68.28%  Million Words/sec: 0.63 #####\u001b[0m\n",
      "\u001b[34m##### Alpha: 0.0134  Progress: 73.28%  Million Words/sec: 0.63 #####\u001b[0m\n",
      "\u001b[34m##### Alpha: 0.0108  Progress: 78.38%  Million Words/sec: 0.63 #####\u001b[0m\n",
      "\u001b[34m##### Alpha: 0.0083  Progress: 83.50%  Million Words/sec: 0.63 #####\u001b[0m\n",
      "\u001b[34m##### Alpha: 0.0057  Progress: 88.64%  Million Words/sec: 0.63 #####\u001b[0m\n",
      "\u001b[34m##### Alpha: 0.0032  Progress: 93.67%  Million Words/sec: 0.64 #####\u001b[0m\n",
      "\u001b[34m##### Alpha: 0.0006  Progress: 98.70%  Million Words/sec: 0.64 #####\u001b[0m\n",
      "\u001b[34m##### Alpha: 0.0000  Progress: 100.00%  Million Words/sec: 0.64 #####\u001b[0m\n",
      "\u001b[34mTraining finished.\u001b[0m\n",
      "\u001b[34mAverage throughput in Million words/sec: 0.64\u001b[0m\n",
      "\u001b[34mTotal training time in seconds: 62.68\u001b[0m\n",
      "\u001b[34mEvaluating word embeddings....\u001b[0m\n",
      "\u001b[34mVectors read from: /opt/ml/model/vectors.txt \u001b[0m\n",
      "\u001b[34m{\n",
      "    \"EN-WS-353-ALL.txt\": {\n",
      "        \"not_found\": 118,\n",
      "        \"spearmans_rho\": 0.3452141257404714,\n",
      "        \"total_pairs\": 353\n",
      "    },\n",
      "    \"EN-WS-353-REL.txt\": {\n",
      "        \"not_found\": 77,\n",
      "        \"spearmans_rho\": 0.2874386523454382,\n",
      "        \"total_pairs\": 252\n",
      "    },\n",
      "    \"EN-WS-353-SIM.txt\": {\n",
      "        \"not_found\": 69,\n",
      "        \"spearmans_rho\": 0.3911655564823925,\n",
      "        \"total_pairs\": 203\n",
      "    },\n",
      "    \"mean_rho\": 0.341272778189434\u001b[0m\n",
      "\u001b[34m}\u001b[0m\n",
      "\u001b[34m[03/15/2024 09:27:56 INFO 139791572899648] #mean_rho: 0.341272778189434\u001b[0m\n",
      "\n",
      "2024-03-15 09:28:22 Uploading - Uploading generated training model\n",
      "2024-03-15 09:28:22 Completed - Training job completed\n",
      "Training seconds: 167\n",
      "Billable seconds: 167\n"
     ]
    }
   ],
   "source": [
    "blazingText.fit({\"train\": s3_input_train, \"val\": s3_input_val}, logs=True)"
   ]
  },
  {
   "cell_type": "code",
   "execution_count": 3,
   "id": "99487096-5a75-43ad-87ee-a8a1471ee913",
   "metadata": {
    "collapsed": true,
    "jupyter": {
     "outputs_hidden": true
    },
    "tags": []
   },
   "outputs": [
    {
     "name": "stdout",
     "output_type": "stream",
     "text": [
      "Requirement already satisfied: sagemaker in /home/ec2-user/anaconda3/envs/python3/lib/python3.10/site-packages (2.210.0)\n",
      "Collecting sagemaker\n",
      "  Downloading sagemaker-2.212.0-py3-none-any.whl.metadata (14 kB)\n",
      "Requirement already satisfied: attrs<24,>=23.1.0 in /home/ec2-user/anaconda3/envs/python3/lib/python3.10/site-packages (from sagemaker) (23.2.0)\n",
      "Requirement already satisfied: boto3<2.0,>=1.33.3 in /home/ec2-user/anaconda3/envs/python3/lib/python3.10/site-packages (from sagemaker) (1.34.55)\n",
      "Requirement already satisfied: cloudpickle==2.2.1 in /home/ec2-user/anaconda3/envs/python3/lib/python3.10/site-packages (from sagemaker) (2.2.1)\n",
      "Requirement already satisfied: google-pasta in /home/ec2-user/anaconda3/envs/python3/lib/python3.10/site-packages (from sagemaker) (0.2.0)\n",
      "Requirement already satisfied: numpy<2.0,>=1.9.0 in /home/ec2-user/anaconda3/envs/python3/lib/python3.10/site-packages (from sagemaker) (1.22.4)\n",
      "Requirement already satisfied: protobuf<5.0,>=3.12 in /home/ec2-user/anaconda3/envs/python3/lib/python3.10/site-packages (from sagemaker) (4.25.3)\n",
      "Requirement already satisfied: smdebug-rulesconfig==1.0.1 in /home/ec2-user/anaconda3/envs/python3/lib/python3.10/site-packages (from sagemaker) (1.0.1)\n",
      "Requirement already satisfied: importlib-metadata<7.0,>=1.4.0 in /home/ec2-user/anaconda3/envs/python3/lib/python3.10/site-packages (from sagemaker) (6.11.0)\n",
      "Requirement already satisfied: packaging>=20.0 in /home/ec2-user/anaconda3/envs/python3/lib/python3.10/site-packages (from sagemaker) (21.3)\n",
      "Requirement already satisfied: pandas in /home/ec2-user/anaconda3/envs/python3/lib/python3.10/site-packages (from sagemaker) (2.2.0)\n",
      "Requirement already satisfied: pathos in /home/ec2-user/anaconda3/envs/python3/lib/python3.10/site-packages (from sagemaker) (0.3.2)\n",
      "Requirement already satisfied: schema in /home/ec2-user/anaconda3/envs/python3/lib/python3.10/site-packages (from sagemaker) (0.7.5)\n",
      "Requirement already satisfied: PyYAML~=6.0 in /home/ec2-user/anaconda3/envs/python3/lib/python3.10/site-packages (from sagemaker) (6.0.1)\n",
      "Requirement already satisfied: jsonschema in /home/ec2-user/anaconda3/envs/python3/lib/python3.10/site-packages (from sagemaker) (4.21.1)\n",
      "Requirement already satisfied: platformdirs in /home/ec2-user/anaconda3/envs/python3/lib/python3.10/site-packages (from sagemaker) (4.2.0)\n",
      "Requirement already satisfied: tblib<3,>=1.7.0 in /home/ec2-user/anaconda3/envs/python3/lib/python3.10/site-packages (from sagemaker) (2.0.0)\n",
      "Requirement already satisfied: urllib3<3.0.0,>=1.26.8 in /home/ec2-user/anaconda3/envs/python3/lib/python3.10/site-packages (from sagemaker) (1.26.18)\n",
      "Requirement already satisfied: requests in /home/ec2-user/anaconda3/envs/python3/lib/python3.10/site-packages (from sagemaker) (2.31.0)\n",
      "Requirement already satisfied: docker in /home/ec2-user/anaconda3/envs/python3/lib/python3.10/site-packages (from sagemaker) (6.1.3)\n",
      "Requirement already satisfied: tqdm in /home/ec2-user/anaconda3/envs/python3/lib/python3.10/site-packages (from sagemaker) (4.66.1)\n",
      "Requirement already satisfied: psutil in /home/ec2-user/anaconda3/envs/python3/lib/python3.10/site-packages (from sagemaker) (5.9.8)\n",
      "Requirement already satisfied: botocore<1.35.0,>=1.34.55 in /home/ec2-user/anaconda3/envs/python3/lib/python3.10/site-packages (from boto3<2.0,>=1.33.3->sagemaker) (1.34.55)\n",
      "Requirement already satisfied: jmespath<2.0.0,>=0.7.1 in /home/ec2-user/anaconda3/envs/python3/lib/python3.10/site-packages (from boto3<2.0,>=1.33.3->sagemaker) (1.0.1)\n",
      "Requirement already satisfied: s3transfer<0.11.0,>=0.10.0 in /home/ec2-user/anaconda3/envs/python3/lib/python3.10/site-packages (from boto3<2.0,>=1.33.3->sagemaker) (0.10.0)\n",
      "Requirement already satisfied: zipp>=0.5 in /home/ec2-user/anaconda3/envs/python3/lib/python3.10/site-packages (from importlib-metadata<7.0,>=1.4.0->sagemaker) (3.17.0)\n",
      "Requirement already satisfied: pyparsing!=3.0.5,>=2.0.2 in /home/ec2-user/anaconda3/envs/python3/lib/python3.10/site-packages (from packaging>=20.0->sagemaker) (3.1.1)\n",
      "Requirement already satisfied: websocket-client>=0.32.0 in /home/ec2-user/anaconda3/envs/python3/lib/python3.10/site-packages (from docker->sagemaker) (1.7.0)\n",
      "Requirement already satisfied: charset-normalizer<4,>=2 in /home/ec2-user/anaconda3/envs/python3/lib/python3.10/site-packages (from requests->sagemaker) (3.3.2)\n",
      "Requirement already satisfied: idna<4,>=2.5 in /home/ec2-user/anaconda3/envs/python3/lib/python3.10/site-packages (from requests->sagemaker) (3.6)\n",
      "Requirement already satisfied: certifi>=2017.4.17 in /home/ec2-user/anaconda3/envs/python3/lib/python3.10/site-packages (from requests->sagemaker) (2024.2.2)\n",
      "Requirement already satisfied: six in /home/ec2-user/anaconda3/envs/python3/lib/python3.10/site-packages (from google-pasta->sagemaker) (1.16.0)\n",
      "Requirement already satisfied: jsonschema-specifications>=2023.03.6 in /home/ec2-user/anaconda3/envs/python3/lib/python3.10/site-packages (from jsonschema->sagemaker) (2023.12.1)\n",
      "Requirement already satisfied: referencing>=0.28.4 in /home/ec2-user/anaconda3/envs/python3/lib/python3.10/site-packages (from jsonschema->sagemaker) (0.33.0)\n",
      "Requirement already satisfied: rpds-py>=0.7.1 in /home/ec2-user/anaconda3/envs/python3/lib/python3.10/site-packages (from jsonschema->sagemaker) (0.17.1)\n",
      "Requirement already satisfied: python-dateutil>=2.8.2 in /home/ec2-user/anaconda3/envs/python3/lib/python3.10/site-packages (from pandas->sagemaker) (2.8.2)\n",
      "Requirement already satisfied: pytz>=2020.1 in /home/ec2-user/anaconda3/envs/python3/lib/python3.10/site-packages (from pandas->sagemaker) (2023.4)\n",
      "Requirement already satisfied: tzdata>=2022.7 in /home/ec2-user/anaconda3/envs/python3/lib/python3.10/site-packages (from pandas->sagemaker) (2023.4)\n",
      "Requirement already satisfied: ppft>=1.7.6.8 in /home/ec2-user/anaconda3/envs/python3/lib/python3.10/site-packages (from pathos->sagemaker) (1.7.6.8)\n",
      "Requirement already satisfied: dill>=0.3.8 in /home/ec2-user/anaconda3/envs/python3/lib/python3.10/site-packages (from pathos->sagemaker) (0.3.8)\n",
      "Requirement already satisfied: pox>=0.3.4 in /home/ec2-user/anaconda3/envs/python3/lib/python3.10/site-packages (from pathos->sagemaker) (0.3.4)\n",
      "Requirement already satisfied: multiprocess>=0.70.16 in /home/ec2-user/anaconda3/envs/python3/lib/python3.10/site-packages (from pathos->sagemaker) (0.70.16)\n",
      "Requirement already satisfied: contextlib2>=0.5.5 in /home/ec2-user/anaconda3/envs/python3/lib/python3.10/site-packages (from schema->sagemaker) (21.6.0)\n",
      "Downloading sagemaker-2.212.0-py3-none-any.whl (1.4 MB)\n",
      "\u001b[2K   \u001b[90m━━━━━━━━━━━━━━━━━━━━━━━━━━━━━━━━━━━━━━━━\u001b[0m \u001b[32m1.4/1.4 MB\u001b[0m \u001b[31m17.0 MB/s\u001b[0m eta \u001b[36m0:00:00\u001b[0m:00:01\u001b[0m\n",
      "\u001b[?25hInstalling collected packages: sagemaker\n",
      "  Attempting uninstall: sagemaker\n",
      "    Found existing installation: sagemaker 2.210.0\n",
      "    Uninstalling sagemaker-2.210.0:\n",
      "      Successfully uninstalled sagemaker-2.210.0\n",
      "Successfully installed sagemaker-2.212.0\n"
     ]
    }
   ],
   "source": [
    "!pip install -U sagemaker"
   ]
  },
  {
   "cell_type": "code",
   "execution_count": 6,
   "id": "9aeb85bd-92ed-4839-bf5a-4e4dbcba1c87",
   "metadata": {
    "collapsed": true,
    "jupyter": {
     "outputs_hidden": true
    },
    "tags": []
   },
   "outputs": [
    {
     "ename": "AttributeError",
     "evalue": "module 'sagemaker' has no attribute 'invoke_endpoint'",
     "output_type": "error",
     "traceback": [
      "\u001b[0;31m---------------------------------------------------------------------------\u001b[0m",
      "\u001b[0;31mAttributeError\u001b[0m                            Traceback (most recent call last)",
      "Cell \u001b[0;32mIn[6], line 10\u001b[0m\n\u001b[1;32m      3\u001b[0m payload \u001b[38;5;241m=\u001b[39m {\u001b[38;5;124m\"\u001b[39m\u001b[38;5;124minstances\u001b[39m\u001b[38;5;124m\"\u001b[39m: words}\n\u001b[1;32m      5\u001b[0m \u001b[38;5;66;03m# response = bt_endpoint.predict(\u001b[39;00m\n\u001b[1;32m      6\u001b[0m \u001b[38;5;66;03m#     json.dumps(payload),\u001b[39;00m\n\u001b[1;32m      7\u001b[0m \u001b[38;5;66;03m#     initial_args={\"ContentType\": \"application/json\", \"Accept\": \"application/json\"},\u001b[39;00m\n\u001b[1;32m      8\u001b[0m \u001b[38;5;66;03m# )\u001b[39;00m\n\u001b[0;32m---> 10\u001b[0m response \u001b[38;5;241m=\u001b[39m \u001b[43msagemaker\u001b[49m\u001b[38;5;241;43m.\u001b[39;49m\u001b[43minvoke_endpoint\u001b[49m(\n\u001b[1;32m     11\u001b[0m     EndpointName\u001b[38;5;241m=\u001b[39m\u001b[38;5;124m\"\u001b[39m\u001b[38;5;124mblazing-text-console\u001b[39m\u001b[38;5;124m\"\u001b[39m,\n\u001b[1;32m     12\u001b[0m     ContentType\u001b[38;5;241m=\u001b[39m\u001b[38;5;124m'\u001b[39m\u001b[38;5;124mapplication/json\u001b[39m\u001b[38;5;124m'\u001b[39m,  \n\u001b[1;32m     13\u001b[0m     Body\u001b[38;5;241m=\u001b[39mpayload\n\u001b[1;32m     14\u001b[0m )\n\u001b[1;32m     16\u001b[0m vecs \u001b[38;5;241m=\u001b[39m json\u001b[38;5;241m.\u001b[39mloads(response)\n\u001b[1;32m     17\u001b[0m \u001b[38;5;28mprint\u001b[39m(vecs)\n",
      "\u001b[0;31mAttributeError\u001b[0m: module 'sagemaker' has no attribute 'invoke_endpoint'"
     ]
    }
   ],
   "source": [
    "words = [\"awesome\", \"blazing\"]\n",
    "\n",
    "payload = {\"instances\": words}"
   ]
  },
  {
   "cell_type": "code",
   "execution_count": 9,
   "id": "c49b73a8-f3f1-4bfc-b5a8-4f9d0da04c47",
   "metadata": {
    "tags": []
   },
   "outputs": [],
   "source": [
    "#instantiate a Predictor\n",
    "predictor = sagemaker.predictor.Predictor(\n",
    "    \"blazing-text-console\",\n",
    "    sagemaker_session=sagemaker.Session(),\n",
    ")\n",
    "\n",
    "#prepare one image for prediction\n",
    "predictor.serializer = sagemaker.base_serializers.JSONSerializer(\"application/json\")\n",
    "\n",
    "#use the predictor to make a prediction\n",
    "inference = predictor.predict(payload)"
   ]
  },
  {
   "cell_type": "code",
   "execution_count": 10,
   "id": "0bab331f-54ba-426e-8347-3a133d9676cb",
   "metadata": {
    "collapsed": true,
    "jupyter": {
     "outputs_hidden": true
    },
    "tags": []
   },
   "outputs": [
    {
     "data": {
      "text/plain": [
       "b'[{\"vector\": [-0.10311742126941681, 0.09651123732328415, -0.6314752697944641, -0.2233518660068512, 0.1533883661031723, -0.21545320749282837, 0.02982252649962902, 0.08699091523885727, 0.18451273441314697, 0.10264405608177185, -0.2975276708602905, -0.10732537508010864, -0.37441951036453247, 0.38601168990135193, 0.19506926834583282, 0.2224438637495041, 0.2920026183128357, -0.0716804713010788, 0.5326611995697021, -0.3413856029510498, 0.9123349189758301, 0.021400179713964462, 0.16851000487804413, -0.636429488658905, -0.28933459520339966, -0.04792143777012825, 0.17606140673160553, -0.15283504128456116, 0.341959685087204, 0.045655082911252975, -0.23628978431224823, 0.08396004140377045, -0.38644617795944214, -0.38151219487190247, -0.19461144506931305, 0.5576109290122986, 0.4155610501766205, 0.0008213674300350249, -0.23428258299827576, -0.10016001015901566, -0.1456056833267212, 0.1363823562860489, 0.26975947618484497, 0.2711084187030792, 0.5214126706123352, -0.20061133801937103, 0.26661741733551025, -0.07004251331090927, 0.20085150003433228, 0.2674528956413269, -0.316184401512146, 0.6624282002449036, -0.25694239139556885, -0.013423871248960495, 0.022738218307495117, 0.08178512006998062, -0.1741945892572403, -0.1591133326292038, 0.001205712673254311, 0.1998686045408249, 0.25426173210144043, -0.14138884842395782, 0.5183351039886475, 0.18819403648376465, 0.21754483878612518, -0.05902613699436188, 0.1510264277458191, 0.19881311058998108, -0.5622613430023193, -0.4849400222301483, -0.6255645751953125, 0.20546184480190277, 0.03719614818692207, 0.0962989553809166, -0.5703886151313782, -0.14231200516223907, 0.7050976753234863, -0.0061154672876000404, -0.44516268372535706, -0.06965368241071701, 0.22791148722171783, -0.43686383962631226, 0.19756068289279938, 0.5048866271972656, -0.11229600012302399, 0.23642878234386444, 0.15475468337535858, 0.08423350751399994, -0.3230811655521393, -0.018444672226905823, 0.12047940492630005, 0.1494358479976654, 0.563755214214325, -0.03930464759469032, -0.5774276852607727, -0.1007084771990776, -0.26799798011779785, -0.18462300300598145, 0.2749527394771576, -0.3200909197330475], \"word\": \"awesome\"}, {\"vector\": [0.13511519134044647, 0.1954355090856552, 0.1244509369134903, 0.2691338360309601, -0.17353104054927826, 0.04309064894914627, -0.15625818073749542, 0.080576092004776, 0.09289345890283585, -0.029351960867643356, 0.0545831024646759, 0.14677932858467102, -0.3098059594631195, -0.07120297104120255, -0.29213789105415344, -0.1334632933139801, -0.05434263125061989, 0.08074521273374557, 0.4642374515533447, -0.06818253546953201, 0.13384759426116943, 0.04493141919374466, -0.19422870874404907, 0.009826588444411755, -0.09273625910282135, -0.03316717967391014, 0.3353196382522583, 0.21498848497867584, -0.20042115449905396, 0.1395518183708191, 0.0046317121013998985, 0.17972007393836975, -0.09610531479120255, -0.1035168245434761, -0.11720063537359238, 6.0899401432834566e-05, 0.09073524177074432, -0.31275272369384766, -0.28430455923080444, 0.14919792115688324, -0.18026815354824066, 0.08692649006843567, -0.12168154865503311, -0.15615423023700714, 0.12230756878852844, -0.23203738033771515, 0.17020699381828308, 0.28646838665008545, 0.1192808598279953, 0.1057799831032753, -0.29985693097114563, -0.11327236890792847, -0.17110635340213776, 0.36079293489456177, -0.11986399441957474, 0.06635521352291107, 0.12404504418373108, 0.1868097335100174, 0.15550297498703003, 0.0585443489253521, 0.19485145807266235, -0.253564715385437, 0.08059699833393097, 0.14384612441062927, 0.11116144806146622, -0.06067666411399841, 0.12829461693763733, 0.2357504814863205, -0.01771443337202072, -0.22517147660255432, 0.0073220450431108475, 0.08542053401470184, -0.11736977845430374, 0.021711016073822975, -0.1194307804107666, -0.0793071761727333, 0.32883599400520325, -0.12527458369731903, -0.12706910073757172, 0.3210582137107849, -0.005771373398602009, -0.1163751557469368, 0.30336794257164, 0.16595804691314697, -0.05938468128442764, -0.05184893682599068, 0.4449094235897064, 0.1961548924446106, -0.2780143618583679, 0.09219750761985779, 0.01239533256739378, 0.19014877080917358, 0.23737162351608276, -0.1787676364183426, -0.06488698720932007, -0.12091182172298431, -0.3328501880168915, 0.16757458448410034, -0.02788439206779003, -0.283961683511734], \"word\": \"blazing\"}]'"
      ]
     },
     "execution_count": 10,
     "metadata": {},
     "output_type": "execute_result"
    }
   ],
   "source": [
    "inference"
   ]
  },
  {
   "cell_type": "code",
   "execution_count": 13,
   "id": "d3244059-1b33-434b-946f-46f89ab91adb",
   "metadata": {
    "collapsed": true,
    "jupyter": {
     "outputs_hidden": true
    },
    "tags": []
   },
   "outputs": [
    {
     "data": {
      "text/plain": [
       "[{'vector': [-0.10311742126941681,\n",
       "   0.09651123732328415,\n",
       "   -0.6314752697944641,\n",
       "   -0.2233518660068512,\n",
       "   0.1533883661031723,\n",
       "   -0.21545320749282837,\n",
       "   0.02982252649962902,\n",
       "   0.08699091523885727,\n",
       "   0.18451273441314697,\n",
       "   0.10264405608177185,\n",
       "   -0.2975276708602905,\n",
       "   -0.10732537508010864,\n",
       "   -0.37441951036453247,\n",
       "   0.38601168990135193,\n",
       "   0.19506926834583282,\n",
       "   0.2224438637495041,\n",
       "   0.2920026183128357,\n",
       "   -0.0716804713010788,\n",
       "   0.5326611995697021,\n",
       "   -0.3413856029510498,\n",
       "   0.9123349189758301,\n",
       "   0.021400179713964462,\n",
       "   0.16851000487804413,\n",
       "   -0.636429488658905,\n",
       "   -0.28933459520339966,\n",
       "   -0.04792143777012825,\n",
       "   0.17606140673160553,\n",
       "   -0.15283504128456116,\n",
       "   0.341959685087204,\n",
       "   0.045655082911252975,\n",
       "   -0.23628978431224823,\n",
       "   0.08396004140377045,\n",
       "   -0.38644617795944214,\n",
       "   -0.38151219487190247,\n",
       "   -0.19461144506931305,\n",
       "   0.5576109290122986,\n",
       "   0.4155610501766205,\n",
       "   0.0008213674300350249,\n",
       "   -0.23428258299827576,\n",
       "   -0.10016001015901566,\n",
       "   -0.1456056833267212,\n",
       "   0.1363823562860489,\n",
       "   0.26975947618484497,\n",
       "   0.2711084187030792,\n",
       "   0.5214126706123352,\n",
       "   -0.20061133801937103,\n",
       "   0.26661741733551025,\n",
       "   -0.07004251331090927,\n",
       "   0.20085150003433228,\n",
       "   0.2674528956413269,\n",
       "   -0.316184401512146,\n",
       "   0.6624282002449036,\n",
       "   -0.25694239139556885,\n",
       "   -0.013423871248960495,\n",
       "   0.022738218307495117,\n",
       "   0.08178512006998062,\n",
       "   -0.1741945892572403,\n",
       "   -0.1591133326292038,\n",
       "   0.001205712673254311,\n",
       "   0.1998686045408249,\n",
       "   0.25426173210144043,\n",
       "   -0.14138884842395782,\n",
       "   0.5183351039886475,\n",
       "   0.18819403648376465,\n",
       "   0.21754483878612518,\n",
       "   -0.05902613699436188,\n",
       "   0.1510264277458191,\n",
       "   0.19881311058998108,\n",
       "   -0.5622613430023193,\n",
       "   -0.4849400222301483,\n",
       "   -0.6255645751953125,\n",
       "   0.20546184480190277,\n",
       "   0.03719614818692207,\n",
       "   0.0962989553809166,\n",
       "   -0.5703886151313782,\n",
       "   -0.14231200516223907,\n",
       "   0.7050976753234863,\n",
       "   -0.0061154672876000404,\n",
       "   -0.44516268372535706,\n",
       "   -0.06965368241071701,\n",
       "   0.22791148722171783,\n",
       "   -0.43686383962631226,\n",
       "   0.19756068289279938,\n",
       "   0.5048866271972656,\n",
       "   -0.11229600012302399,\n",
       "   0.23642878234386444,\n",
       "   0.15475468337535858,\n",
       "   0.08423350751399994,\n",
       "   -0.3230811655521393,\n",
       "   -0.018444672226905823,\n",
       "   0.12047940492630005,\n",
       "   0.1494358479976654,\n",
       "   0.563755214214325,\n",
       "   -0.03930464759469032,\n",
       "   -0.5774276852607727,\n",
       "   -0.1007084771990776,\n",
       "   -0.26799798011779785,\n",
       "   -0.18462300300598145,\n",
       "   0.2749527394771576,\n",
       "   -0.3200909197330475],\n",
       "  'word': 'awesome'},\n",
       " {'vector': [0.13511519134044647,\n",
       "   0.1954355090856552,\n",
       "   0.1244509369134903,\n",
       "   0.2691338360309601,\n",
       "   -0.17353104054927826,\n",
       "   0.04309064894914627,\n",
       "   -0.15625818073749542,\n",
       "   0.080576092004776,\n",
       "   0.09289345890283585,\n",
       "   -0.029351960867643356,\n",
       "   0.0545831024646759,\n",
       "   0.14677932858467102,\n",
       "   -0.3098059594631195,\n",
       "   -0.07120297104120255,\n",
       "   -0.29213789105415344,\n",
       "   -0.1334632933139801,\n",
       "   -0.05434263125061989,\n",
       "   0.08074521273374557,\n",
       "   0.4642374515533447,\n",
       "   -0.06818253546953201,\n",
       "   0.13384759426116943,\n",
       "   0.04493141919374466,\n",
       "   -0.19422870874404907,\n",
       "   0.009826588444411755,\n",
       "   -0.09273625910282135,\n",
       "   -0.03316717967391014,\n",
       "   0.3353196382522583,\n",
       "   0.21498848497867584,\n",
       "   -0.20042115449905396,\n",
       "   0.1395518183708191,\n",
       "   0.0046317121013998985,\n",
       "   0.17972007393836975,\n",
       "   -0.09610531479120255,\n",
       "   -0.1035168245434761,\n",
       "   -0.11720063537359238,\n",
       "   6.0899401432834566e-05,\n",
       "   0.09073524177074432,\n",
       "   -0.31275272369384766,\n",
       "   -0.28430455923080444,\n",
       "   0.14919792115688324,\n",
       "   -0.18026815354824066,\n",
       "   0.08692649006843567,\n",
       "   -0.12168154865503311,\n",
       "   -0.15615423023700714,\n",
       "   0.12230756878852844,\n",
       "   -0.23203738033771515,\n",
       "   0.17020699381828308,\n",
       "   0.28646838665008545,\n",
       "   0.1192808598279953,\n",
       "   0.1057799831032753,\n",
       "   -0.29985693097114563,\n",
       "   -0.11327236890792847,\n",
       "   -0.17110635340213776,\n",
       "   0.36079293489456177,\n",
       "   -0.11986399441957474,\n",
       "   0.06635521352291107,\n",
       "   0.12404504418373108,\n",
       "   0.1868097335100174,\n",
       "   0.15550297498703003,\n",
       "   0.0585443489253521,\n",
       "   0.19485145807266235,\n",
       "   -0.253564715385437,\n",
       "   0.08059699833393097,\n",
       "   0.14384612441062927,\n",
       "   0.11116144806146622,\n",
       "   -0.06067666411399841,\n",
       "   0.12829461693763733,\n",
       "   0.2357504814863205,\n",
       "   -0.01771443337202072,\n",
       "   -0.22517147660255432,\n",
       "   0.0073220450431108475,\n",
       "   0.08542053401470184,\n",
       "   -0.11736977845430374,\n",
       "   0.021711016073822975,\n",
       "   -0.1194307804107666,\n",
       "   -0.0793071761727333,\n",
       "   0.32883599400520325,\n",
       "   -0.12527458369731903,\n",
       "   -0.12706910073757172,\n",
       "   0.3210582137107849,\n",
       "   -0.005771373398602009,\n",
       "   -0.1163751557469368,\n",
       "   0.30336794257164,\n",
       "   0.16595804691314697,\n",
       "   -0.05938468128442764,\n",
       "   -0.05184893682599068,\n",
       "   0.4449094235897064,\n",
       "   0.1961548924446106,\n",
       "   -0.2780143618583679,\n",
       "   0.09219750761985779,\n",
       "   0.01239533256739378,\n",
       "   0.19014877080917358,\n",
       "   0.23737162351608276,\n",
       "   -0.1787676364183426,\n",
       "   -0.06488698720932007,\n",
       "   -0.12091182172298431,\n",
       "   -0.3328501880168915,\n",
       "   0.16757458448410034,\n",
       "   -0.02788439206779003,\n",
       "   -0.283961683511734],\n",
       "  'word': 'blazing'}]"
      ]
     },
     "execution_count": 13,
     "metadata": {},
     "output_type": "execute_result"
    }
   ],
   "source": [
    "json.loads(inference)"
   ]
  },
  {
   "cell_type": "code",
   "execution_count": null,
   "id": "7ff972c0-5542-44db-a074-2b6b3b808b40",
   "metadata": {},
   "outputs": [],
   "source": []
  }
 ],
 "metadata": {
  "kernelspec": {
   "display_name": "conda_python3",
   "language": "python",
   "name": "conda_python3"
  },
  "language_info": {
   "codemirror_mode": {
    "name": "ipython",
    "version": 3
   },
   "file_extension": ".py",
   "mimetype": "text/x-python",
   "name": "python",
   "nbconvert_exporter": "python",
   "pygments_lexer": "ipython3",
   "version": "3.10.13"
  }
 },
 "nbformat": 4,
 "nbformat_minor": 5
}
